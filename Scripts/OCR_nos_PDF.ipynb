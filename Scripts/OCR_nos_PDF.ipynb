{
  "nbformat": 4,
  "nbformat_minor": 0,
  "metadata": {
    "colab": {
      "provenance": [],
      "collapsed_sections": [
        "hMdxQF6-ZkwR"
      ],
      "gpuType": "T4",
      "mount_file_id": "12nXAgcER8wTiPCuFu5fwqDOgIU3Gz2PQ",
      "authorship_tag": "ABX9TyPfgndrR7A0UQ/d18gZuOw6",
      "include_colab_link": true
    },
    "kernelspec": {
      "name": "python3",
      "display_name": "Python 3"
    },
    "language_info": {
      "name": "python"
    },
    "accelerator": "GPU"
  },
  "cells": [
    {
      "cell_type": "markdown",
      "metadata": {
        "id": "view-in-github",
        "colab_type": "text"
      },
      "source": [
        "<a href=\"https://colab.research.google.com/github/LinkRoxo/TCC/blob/main/Scripts/OCR_nos_PDF.ipynb\" target=\"_parent\"><img src=\"https://colab.research.google.com/assets/colab-badge.svg\" alt=\"Open In Colab\"/></a>"
      ]
    },
    {
      "cell_type": "markdown",
      "source": [
        "###**INIT**"
      ],
      "metadata": {
        "id": "KlAdLfGuLO4v"
      }
    },
    {
      "cell_type": "code",
      "execution_count": null,
      "metadata": {
        "id": "FPJGz9_2KEae"
      },
      "outputs": [],
      "source": [
        "!pip install opencv-python==4.8.0.76\n",
        "!sudo apt install tesseract-ocr\n",
        "!pip install pytesseract==0.3.9\n",
        "!apt-get install tesseract-ocr-por"
      ]
    },
    {
      "cell_type": "code",
      "source": [
        "import pytesseract\n",
        "import numpy as np\n",
        "import cv2\n",
        "from google.colab.patches import cv2_imshow\n",
        "from PIL import ImageFont, ImageDraw, Image\n",
        "\n",
        "fonte = '/content/drive/MyDrive/Colab Notebooks/Fonte/Calibri/Calibri.ttf'"
      ],
      "metadata": {
        "id": "P-7ApuHrKz9X"
      },
      "execution_count": 2,
      "outputs": []
    },
    {
      "cell_type": "code",
      "source": [
        "import pandas as pd"
      ],
      "metadata": {
        "id": "FHu_2EjL_l9N"
      },
      "execution_count": 3,
      "outputs": []
    },
    {
      "cell_type": "code",
      "source": [
        "def caixa_texto(resultado, img, cor = (255, 100, 0)):\n",
        "  x = resultado['left'][i]\n",
        "  y = resultado['top'][i]\n",
        "  w = resultado['width'][i]\n",
        "  h = resultado['height'][i]\n",
        "\n",
        "  cv2.rectangle(img, (x, y), (x+w, y+h), cor, 2)\n",
        "\n",
        "  return x, y, img"
      ],
      "metadata": {
        "id": "IRVgi38OYVrz"
      },
      "execution_count": 4,
      "outputs": []
    },
    {
      "cell_type": "code",
      "source": [
        "def escreve_texto(texto, x, y, img, fonte, tamanho_texto=20):\n",
        "  fonte = ImageFont.truetype(fonte, tamanho_texto)\n",
        "  img_pil = Image.fromarray(img)\n",
        "  draw = ImageDraw.Draw(img_pil)\n",
        "  draw.text((x, y - tamanho_texto), texto, font = fonte, fill=(0,0,255,255))\n",
        "  img = np.array(img_pil)\n",
        "  return img"
      ],
      "metadata": {
        "id": "9WwShSexbvwi"
      },
      "execution_count": 5,
      "outputs": []
    },
    {
      "cell_type": "markdown",
      "source": [
        "###CODIGO TESSERACT\n"
      ],
      "metadata": {
        "id": "QIfW6SrGLTHX"
      }
    },
    {
      "cell_type": "markdown",
      "source": [
        "testes de bibliotecas e ambiente"
      ],
      "metadata": {
        "id": "Hytu8AAoP-fv"
      }
    },
    {
      "cell_type": "code",
      "source": [
        "# @title Linguas\n",
        "!tesseract --list-langs"
      ],
      "metadata": {
        "colab": {
          "base_uri": "https://localhost:8080/"
        },
        "id": "lUMESon-QJN4",
        "outputId": "c3281fcd-f74f-43da-fecb-6fdbb2b75787"
      },
      "execution_count": 6,
      "outputs": [
        {
          "output_type": "stream",
          "name": "stdout",
          "text": [
            "List of available languages (3):\n",
            "eng\n",
            "osd\n",
            "por\n"
          ]
        }
      ]
    },
    {
      "cell_type": "code",
      "source": [
        "cv2.__version__"
      ],
      "metadata": {
        "colab": {
          "base_uri": "https://localhost:8080/",
          "height": 35
        },
        "id": "vZCwUgkKLVWS",
        "outputId": "3e8543ee-c4ea-4288-f94d-2c8c05ac9bdb"
      },
      "execution_count": 7,
      "outputs": [
        {
          "output_type": "execute_result",
          "data": {
            "text/plain": [
              "'4.8.0'"
            ],
            "application/vnd.google.colaboratory.intrinsic+json": {
              "type": "string"
            }
          },
          "metadata": {},
          "execution_count": 7
        }
      ]
    },
    {
      "cell_type": "code",
      "source": [
        "!tesseract --help-psm"
      ],
      "metadata": {
        "id": "0lv8auEtPoHw"
      },
      "execution_count": null,
      "outputs": []
    },
    {
      "cell_type": "markdown",
      "source": [
        "CONFIG TESSERACT"
      ],
      "metadata": {
        "id": "QF-bKbvmRXEI"
      }
    },
    {
      "cell_type": "code",
      "source": [
        "gibby = cv2.imread('/content/Fatura gibby-1.png')\n",
        "pedaço_gibby = cv2.imread('/content/pedaço_gibby.png')\n",
        "pedaço_gibby2 = cv2.imread('/content/pedaço_gibby2.png')"
      ],
      "metadata": {
        "id": "Q1sUdMioL9ei"
      },
      "execution_count": 16,
      "outputs": []
    },
    {
      "cell_type": "code",
      "source": [
        "text = pytesseract.image_to_string(gibby, lang='por', config='--psm 3')\n",
        "text_data = pytesseract.image_to_data(gibby, config='--psm 3', lang='por', output_type=pytesseract.Output.DICT)\n",
        "#text2 = pytesseract.image_to_string(pedro, lang='por')\n",
        "#text3 = pytesseract.image_to_string(john, lang='por')\n",
        "text_data"
      ],
      "metadata": {
        "cellView": "code",
        "id": "LI4BpsejNE9A"
      },
      "execution_count": null,
      "outputs": []
    },
    {
      "cell_type": "code",
      "source": [
        "dframe = pd.DataFrame(text_data)\n",
        "\n",
        "limite_confianca = 80\n",
        "\n",
        "palavras_por_bloco = {}\n",
        "\n",
        "for i, (texto, num_bloco, conf) in enumerate(zip(text_data['text'], text_data['block_num'], text_data['conf'])):\n",
        "    if i == 0:\n",
        "        continue  # Ignorar o cabeçalho\n",
        "\n",
        "    if int(conf) >= limite_confianca:\n",
        "        if num_bloco not in palavras_por_bloco:\n",
        "            palavras_por_bloco[num_bloco] = []\n",
        "\n",
        "        palavras_por_bloco[num_bloco].append(texto)\n",
        "\n",
        "faca = False\n",
        "# Agora você tem as palavras agrupadas por bloco\n",
        "if faca == True:\n",
        "  for num_bloco, palavras in palavras_por_bloco.items():\n",
        "      print(f\"Bloco {num_bloco}:\")\n",
        "      for palavra in palavras:\n",
        "          print(\"                            \"+palavra)\n",
        "\n",
        "print(palavras_por_bloco[8])"
      ],
      "metadata": {
        "id": "jTJEDhHN4vaa"
      },
      "execution_count": null,
      "outputs": []
    },
    {
      "cell_type": "code",
      "source": [
        "text2 = pytesseract.image_to_data(pedaço_gibby, config='--psm 3', lang='por', output_type=pytesseract.Output.DICT)\n",
        "text2"
      ],
      "metadata": {
        "id": "kZySNsfxwHSq"
      },
      "execution_count": null,
      "outputs": []
    },
    {
      "cell_type": "markdown",
      "source": [
        "### **IMAGEM PRINTADA** 🎉\n",
        "\n",
        "---\n",
        "\n"
      ],
      "metadata": {
        "id": "hMdxQF6-ZkwR"
      }
    },
    {
      "cell_type": "code",
      "source": [
        "gibby_resultado = gibby\n",
        "for i in range(len(text_data['text'])):\n",
        "  texto = text_data['text'][i]\n",
        "  if int(text_data['conf'][i]) > 70:\n",
        "    x, y, img = caixa_texto(text_data, gibby_resultado)\n",
        "    #cv2.putText(gibby_resultado, texto, (x, y - 10), cv2.FONT_HERSHEY_SIMPLEX, 0.4, (0,0,255))\n",
        "    gibby_resultado = escreve_texto(texto, x, y, gibby_resultado, fonte)\n",
        "cv2_imshow(gibby_resultado)\n"
      ],
      "metadata": {
        "id": "_RYC9O52YSV3"
      },
      "execution_count": null,
      "outputs": []
    },
    {
      "cell_type": "markdown",
      "source": [
        "###**spaCy**"
      ],
      "metadata": {
        "id": "EefjEwVFUxak"
      }
    },
    {
      "cell_type": "code",
      "source": [
        "!pip install -U pip setuptools wheel\n",
        "#!pip install -U 'spacy[transformers,lookups]'\n",
        "!pip install -U 'spacy[cuda-autodetect]'\n",
        "!python -m spacy download pt_core_news_lg"
      ],
      "metadata": {
        "id": "NRFknMPwU2wL"
      },
      "execution_count": null,
      "outputs": []
    },
    {
      "cell_type": "code",
      "source": [
        "import spacy\n",
        "\n",
        "nlp = spacy.load('pt_core_news_lg')\n",
        "nlp.pipe_names"
      ],
      "metadata": {
        "id": "EhmG-kTbWvmE",
        "colab": {
          "base_uri": "https://localhost:8080/"
        },
        "outputId": "954d7cd5-4e92-444d-e31f-e5873c04b87e"
      },
      "execution_count": 22,
      "outputs": [
        {
          "output_type": "execute_result",
          "data": {
            "text/plain": [
              "['tok2vec', 'morphologizer', 'parser', 'lemmatizer', 'attribute_ruler', 'ner']"
            ]
          },
          "metadata": {},
          "execution_count": 22
        }
      ]
    },
    {
      "cell_type": "code",
      "source": [
        "def laço(texto):\n",
        "  spacy.displacy.render(texto, style='ent', jupyter=True)"
      ],
      "metadata": {
        "id": "auCSlcndW2-c"
      },
      "execution_count": 23,
      "outputs": []
    },
    {
      "cell_type": "code",
      "source": [
        "def unificador(bloco):\n",
        "  delimitador = \" \"  # Espaço em branco entre as palavras\n",
        "\n",
        "  string_unificada = delimitador.join(bloco)\n",
        "  return string_unificada"
      ],
      "metadata": {
        "id": "5W8I4sNFzOIY"
      },
      "execution_count": 24,
      "outputs": []
    },
    {
      "cell_type": "code",
      "source": [
        "for i in palavras_por_bloco:\n",
        "  text = laço(nlp(unificador(palavras_por_bloco[i])))"
      ],
      "metadata": {
        "id": "7odLympHW6lo"
      },
      "execution_count": null,
      "outputs": []
    }
  ]
}