{
  "nbformat": 4,
  "nbformat_minor": 0,
  "metadata": {
    "colab": {
      "provenance": [],
      "toc_visible": true,
      "include_colab_link": true
    },
    "kernelspec": {
      "name": "python3",
      "display_name": "Python 3"
    },
    "language_info": {
      "name": "python"
    },
    "accelerator": "TPU"
  },
  "cells": [
    {
      "cell_type": "markdown",
      "metadata": {
        "id": "view-in-github",
        "colab_type": "text"
      },
      "source": [
        "<a href=\"https://colab.research.google.com/github/LinkRoxo/TCC/blob/main/Scripts/Separador_em_blocos.ipynb\" target=\"_parent\"><img src=\"https://colab.research.google.com/assets/colab-badge.svg\" alt=\"Open In Colab\"/></a>"
      ]
    },
    {
      "cell_type": "code",
      "source": [
        "!mkdir /content/croped"
      ],
      "metadata": {
        "id": "j7Xckul1fkV1",
        "colab": {
          "base_uri": "https://localhost:8080/"
        },
        "outputId": "97fed664-f79d-4371-c5e4-0078fc67b44e"
      },
      "execution_count": 10,
      "outputs": [
        {
          "output_type": "stream",
          "name": "stdout",
          "text": [
            "mkdir: cannot create directory ‘/content/croped’: File exists\n"
          ]
        }
      ]
    },
    {
      "cell_type": "code",
      "source": [
        "from google.colab import files\n",
        "import io\n",
        "uploaded = files.upload()"
      ],
      "metadata": {
        "id": "9QAy1anUo2hL"
      },
      "execution_count": null,
      "outputs": []
    },
    {
      "cell_type": "code",
      "execution_count": 11,
      "metadata": {
        "id": "9CXhmpWUYes1"
      },
      "outputs": [],
      "source": [
        "import cv2\n",
        "import numpy as np\n",
        "import argparse\n",
        "import imutils\n",
        "from PIL import ImageFont, ImageDraw, Image\n",
        "from google.colab.patches import cv2_imshow\n",
        "\n",
        "fonte = '/calibri.ttf'"
      ]
    },
    {
      "cell_type": "code",
      "source": [
        "def sort_contours(cnts, method=\"left-to-right\"):\n",
        "\t# initialize the reverse flag and sort index\n",
        "\treverse = False\n",
        "\ti = 0\n",
        "\t# handle if we need to sort in reverse\n",
        "\tif method == \"right-to-left\" or method == \"bottom-to-top\":\n",
        "\t\treverse = True\n",
        "\t# handle if we are sorting against the y-coordinate rather than\n",
        "\t# the x-coordinate of the bounding box\n",
        "\tif method == \"top-to-bottom\" or method == \"bottom-to-top\":\n",
        "\t\ti = 1\n",
        "\t# construct the list of bounding boxes and sort them from top to\n",
        "\t# bottom\n",
        "\tboundingBoxes = [cv2.boundingRect(c) for c in cnts]\n",
        "\t(cnts, boundingBoxes) = zip(*sorted(zip(cnts, boundingBoxes),\n",
        "\t\tkey=lambda b:b[1][i], reverse=reverse))\n",
        "\t# return the list of sorted contours and bounding boxes\n",
        "\treturn (cnts, boundingBoxes)"
      ],
      "metadata": {
        "id": "tcxtxZDeZ94H"
      },
      "execution_count": 12,
      "outputs": []
    },
    {
      "cell_type": "code",
      "source": [
        "def draw_contour(image, c, i):\n",
        "\t# compute the center of the contour area and draw a circle\n",
        "\t# representing the center\n",
        "\tM = cv2.moments(c)\n",
        "\tcX = int(M[\"m10\"] / M[\"m00\"])\n",
        "\tcY = int(M[\"m01\"] / M[\"m00\"])\n",
        "\t# draw the countour number on the image\n",
        "\tcv2.putText(image, \"#{}\".format(i + 1), (cX - 20, cY), cv2.FONT_HERSHEY_SIMPLEX, 1.0, (255, 255, 255), 2)\n",
        "\t# return the image with the contour number drawn on it\n",
        "\treturn image"
      ],
      "metadata": {
        "id": "AzjUZmT9ac5D"
      },
      "execution_count": 13,
      "outputs": []
    },
    {
      "cell_type": "code",
      "source": [
        "def caixa_texto(x, y, w, h, img, cor = (255, 100, 0)):\n",
        "  '''   x = resultado['left'][i]\n",
        "  y = resultado['top'][i]\n",
        "  w = resultado['width'][i]\n",
        "  h = resultado['height'][i] '''\n",
        "\n",
        "  cv2.rectangle(img, (x, y), (x+w, y+h), cor, 2)\n",
        "\n",
        "  return x, y, img"
      ],
      "metadata": {
        "id": "uGZrH9KyegN8"
      },
      "execution_count": 14,
      "outputs": []
    },
    {
      "cell_type": "code",
      "source": [
        "def box_extraction(img_for_box_extraction_path, cropped_dir_path):\n",
        "  color = (255, 0, 0)\n",
        "  original = cv2.imread(img_for_box_extraction_path)\n",
        "  img = cv2.imread(img_for_box_extraction_path, 0)  # Read the image\n",
        "  (thresh, img_bin) = cv2.threshold(img, 128, 255, cv2.THRESH_BINARY | cv2.THRESH_OTSU)  # Thresholding the image\n",
        "  img_bin = 255-img_bin  # Invert the imagecv2.imwrite(\"Image_bin.jpg\",img_bin)\n",
        "\n",
        "  # Defining a kernel length\n",
        "  kernel_length = np.array(img).shape[1]//40\n",
        "\n",
        "  # A verticle kernel of (1 X kernel_length), which will detect all the verticle lines from the image.\n",
        "  verticle_kernel = cv2.getStructuringElement(cv2.MORPH_RECT, (1, kernel_length))\n",
        "  # A horizontal kernel of (kernel_length X 1), which will help to detect all the horizontal line from the image.\n",
        "  hori_kernel = cv2.getStructuringElement(cv2.MORPH_RECT, (kernel_length, 1))\n",
        "  # A kernel of (3 X 3) ones.\n",
        "  kernel = cv2.getStructuringElement(cv2.MORPH_RECT, (3, 3))# Morphological operation to detect verticle lines from an image\n",
        "  img_temp1 = cv2.erode(img_bin, verticle_kernel, iterations=3)\n",
        "  verticle_lines_img = cv2.dilate(img_temp1, verticle_kernel, iterations=3)\n",
        "  cv2.imwrite(\"verticle_lines.jpg\",verticle_lines_img)# Morphological operation to detect horizontal lines from an image\n",
        "  img_temp2 = cv2.erode(img_bin, hori_kernel, iterations=3)\n",
        "  horizontal_lines_img = cv2.dilate(img_temp2, hori_kernel, iterations=3)\n",
        "  cv2.imwrite(\"horizontal_lines.jpg\",horizontal_lines_img)# Weighting parameters, this will decide the quantity of an image to be added to make a new image.\n",
        "  alpha = 0.5\n",
        "  beta = 1.0 - alpha\n",
        "  # This function helps to add two image with specific weight parameter to get a third image as summation of two image.\n",
        "  img_final_bin = cv2.addWeighted(verticle_lines_img, alpha, horizontal_lines_img, beta, 0.0)\n",
        "  img_final_bin = cv2.erode(~img_final_bin, kernel, iterations=2)\n",
        "  (thresh, img_final_bin) = cv2.threshold(img_final_bin, 128, 255, cv2.THRESH_BINARY | cv2.THRESH_OTSU)# For Debugging\n",
        "  # Enable this line to see verticle and horizontal lines in the image which is used to find boxes\n",
        "  cv2.imwrite(\"img_final_bin.jpg\",img_final_bin)\n",
        "  # Find contours for image, which will detect all the boxes\n",
        "  contours, hierarchy = cv2.findContours(img_final_bin, cv2.RETR_TREE, cv2.CHAIN_APPROX_SIMPLE)\n",
        "  # Sort all the contours by top to bottom.\n",
        "  (contours, boundingBoxes) = sort_contours(contours, method=\"top-to-bottom\")\n",
        "  idx = 0\n",
        "  for c in contours:\n",
        "    # Returns the location and width,height for every contour\n",
        "    x, y, w, h = cv2.boundingRect(c)# If the box height is greater then 20, widht is >80, then only save it as a box in \"cropped/\" folder.\n",
        "    resultado = cv2.rectangle(original, (x, y), (x+w, y+h), color, 2)\n",
        "    idx += 1\n",
        "\n",
        "  cv2_imshow(resultado)"
      ],
      "metadata": {
        "id": "R3tTIUOBg8tx"
      },
      "execution_count": 15,
      "outputs": []
    },
    {
      "cell_type": "code",
      "source": [
        "# @title INICIO\n",
        "path = uploaded.keys()\n",
        "print(texto)\n",
        "#box_extraction(uploaded, '/content/croped/')"
      ],
      "metadata": {
        "id": "o3S9KZPTfFla"
      },
      "execution_count": null,
      "outputs": []
    },
    {
      "cell_type": "code",
      "source": [],
      "metadata": {
        "id": "Je34wUCYhb2u"
      },
      "execution_count": 16,
      "outputs": []
    },
    {
      "cell_type": "code",
      "source": [
        "img = cv2.imread('/content/Fatura gibby-1.png', 0)\n",
        "\n",
        "# Thresholding the image\n",
        "(thresh, img_bin) = cv2.threshold(img, 128, 255,cv2.THRESH_BINARY|     cv2.THRESH_OTSU)# Invert the image\n",
        "img_bin = 255-img_bin\n",
        "cv2.imwrite(\"Image_bin.jpg\",img_bin)"
      ],
      "metadata": {
        "id": "dLfyaUeyYhH5",
        "colab": {
          "base_uri": "https://localhost:8080/"
        },
        "outputId": "045b12df-0cb3-4f34-e5de-8c2bd8ed947e"
      },
      "execution_count": 17,
      "outputs": [
        {
          "output_type": "execute_result",
          "data": {
            "text/plain": [
              "True"
            ]
          },
          "metadata": {},
          "execution_count": 17
        }
      ]
    },
    {
      "cell_type": "code",
      "source": [
        "# Defining a kernel length\n",
        "kernel_length = np.array(img).shape[1]//80\n",
        "\n",
        "# A verticle kernel of (1 X kernel_length), which will detect all the verticle lines from the image.\n",
        "verticle_kernel = cv2.getStructuringElement(cv2.MORPH_RECT, (1, kernel_length))# A horizontal kernel of (kernel_length X 1), which will help to detect all the horizontal line from the image.\n",
        "hori_kernel = cv2.getStructuringElement(cv2.MORPH_RECT, (kernel_length, 1))# A kernel of (3 X 3) ones.\n",
        "kernel = cv2.getStructuringElement(cv2.MORPH_RECT, (3, 3))"
      ],
      "metadata": {
        "id": "HZprrNxbY0-T"
      },
      "execution_count": 18,
      "outputs": []
    },
    {
      "cell_type": "code",
      "source": [
        "# Morphological operation to detect vertical lines from an image\n",
        "img_temp1 = cv2.erode(img_bin, verticle_kernel, iterations=3)\n",
        "verticle_lines_img = cv2.dilate(img_temp1, verticle_kernel, iterations=3)\n",
        "cv2.imwrite(\"verticle_lines.jpg\",verticle_lines_img)# Morphological operation to detect horizontal lines from an image\n",
        "img_temp2 = cv2.erode(img_bin, hori_kernel, iterations=3)\n",
        "horizontal_lines_img = cv2.dilate(img_temp2, hori_kernel, iterations=3)\n",
        "cv2.imwrite(\"horizontal_lines.jpg\",horizontal_lines_img)"
      ],
      "metadata": {
        "id": "vEONXH_gY4QP",
        "colab": {
          "base_uri": "https://localhost:8080/"
        },
        "outputId": "6d9ca690-1127-4317-d729-30dbfbd0c5b0"
      },
      "execution_count": 19,
      "outputs": [
        {
          "output_type": "execute_result",
          "data": {
            "text/plain": [
              "True"
            ]
          },
          "metadata": {},
          "execution_count": 19
        }
      ]
    },
    {
      "cell_type": "code",
      "source": [
        "# Weighting parameters, this will decide the quantity of an image to be added to make a new image.\n",
        "alpha = 0.5\n",
        "beta = 1.0 - alpha# This function helps to add two image with specific weight parameter to get a third image as summation of two image.\n",
        "img_final_bin = cv2.addWeighted(verticle_lines_img, alpha, horizontal_lines_img, beta, 0.0)\n",
        "img_final_bin = cv2.erode(~img_final_bin, kernel, iterations=2)\n",
        "(thresh, img_final_bin) = cv2.threshold(img_final_bin, 128,255, cv2.THRESH_BINARY | cv2.THRESH_OTSU)\n",
        "cv2.imwrite(\"img_final_bin.jpg\",img_final_bin)"
      ],
      "metadata": {
        "id": "PTRF1EQjY6-I",
        "colab": {
          "base_uri": "https://localhost:8080/"
        },
        "outputId": "dac273c6-9f3d-420a-f038-fe75f6c6c13c"
      },
      "execution_count": 20,
      "outputs": [
        {
          "output_type": "execute_result",
          "data": {
            "text/plain": [
              "True"
            ]
          },
          "metadata": {},
          "execution_count": 20
        }
      ]
    },
    {
      "cell_type": "code",
      "source": [
        "img_final_bin"
      ],
      "metadata": {
        "id": "3WYv0sy0bEEQ"
      },
      "execution_count": null,
      "outputs": []
    },
    {
      "cell_type": "code",
      "source": [
        "# Find contours for image, which will detect all the boxes\n",
        "contours, hierarchy = cv2.findContours(img_final_bin, cv2.RETR_TREE, cv2.CHAIN_APPROX_SIMPLE)# Sort all the contours by top to bottom.\n",
        "(contours, boundingBoxes) = sort_contours(contours, method=\"top-to-bottom\")"
      ],
      "metadata": {
        "id": "Bj0DgGhKY87o"
      },
      "execution_count": 22,
      "outputs": []
    },
    {
      "cell_type": "code",
      "source": [
        "print(cv2.RETR_TREE)\n",
        "print(cv2.CHAIN_APPROX_SIMPLE)"
      ],
      "metadata": {
        "id": "yc5aTWWjbLnF"
      },
      "execution_count": null,
      "outputs": []
    },
    {
      "cell_type": "code",
      "source": [
        "idx = 0\n",
        "cropped_dir_path = '/content/croped/'\n",
        "for c in contours:\n",
        "    # Returns the location and width,height for every contour\n",
        "    x, y, w, h = cv2.boundingRect(c)\n",
        "    if (w > 80 and h > 20) and w > 3*h:\n",
        "      idx += 1\n",
        "      new_img = img[y:y+h, x:x+w]\n",
        "      cv2.imwrite(cropped_dir_path+str(idx) + '.png', new_img)# If the box height is greater then 20, widht is >80, then only save it as a box in \"cropped/\" folder.\n",
        "      if (w > 80 and h > 20) and w > 3*h:\n",
        "        idx += 1\n",
        "        new_img = img[y:y+h, x:x+w]\n",
        "        cv2.imwrite(cropped_dir_path+str(idx) + '.png', new_img)"
      ],
      "metadata": {
        "id": "7HToQn2YZKai"
      },
      "execution_count": 25,
      "outputs": []
    }
  ]
}